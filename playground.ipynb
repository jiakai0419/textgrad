{
 "cells": [
  {
   "cell_type": "code",
   "execution_count": 1,
   "id": "c84c23c4-b646-4b43-9eb0-87231a6e5822",
   "metadata": {
    "tags": []
   },
   "outputs": [],
   "source": [
    "import os\n",
    "import textgrad as tg\n",
    "from textgrad.tasks import load_task\n",
    "from rich import inspect\n",
    "from dotenv import load_dotenv"
   ]
  },
  {
   "cell_type": "code",
   "execution_count": 2,
   "id": "76afdc1e-c2b7-4f94-be39-fed030281fdd",
   "metadata": {
    "tags": []
   },
   "outputs": [
    {
     "data": {
      "text/plain": [
       "True"
      ]
     },
     "execution_count": 2,
     "metadata": {},
     "output_type": "execute_result"
    }
   ],
   "source": [
    "load_dotenv()\n",
    "\n",
    "# print(f\"OPENAI_API_KEY={os.getenv('OPENAI_API_KEY')}\")"
   ]
  },
  {
   "cell_type": "code",
   "execution_count": 3,
   "id": "3175b7a1-7e90-4ce5-8dc9-3d8d4da6b4dc",
   "metadata": {
    "tags": []
   },
   "outputs": [],
   "source": [
    "llm_engine = tg.get_engine(\"gpt-3.5-turbo\")\n",
    "tg.set_backward_engine(\"gpt-4o\")"
   ]
  },
  {
   "cell_type": "code",
   "execution_count": 4,
   "id": "fae0f781-bde2-4c49-9b7b-8e440e5dcd2b",
   "metadata": {
    "tags": []
   },
   "outputs": [],
   "source": [
    "_, val_set, _, eval_fn = load_task(\"BBH_object_counting\", llm_engine)\n",
    "question_str, answer_str = val_set[0]"
   ]
  },
  {
   "cell_type": "code",
   "execution_count": 5,
   "id": "72923ccb-bc6e-4526-ab7b-46610ea4ce12",
   "metadata": {
    "tags": []
   },
   "outputs": [
    {
     "data": {
      "text/html": [
       "<pre style=\"white-space:pre;overflow-x:auto;line-height:normal;font-family:Menlo,'DejaVu Sans Mono',consolas,'Courier New',monospace\"><span style=\"color: #000080; text-decoration-color: #000080\">╭────────── </span><span style=\"color: #000080; text-decoration-color: #000080; font-weight: bold\">&lt;</span><span style=\"color: #ff00ff; text-decoration-color: #ff00ff; font-weight: bold\">textgrad.autograd.string_based_ops.StringBasedFunction</span><span style=\"color: #000000; text-decoration-color: #000000\"> object at </span><span style=\"color: #008080; text-decoration-color: #008080; font-weight: bold\">0x11a1f3a30</span><span style=\"color: #000080; text-decoration-color: #000080; font-weight: bold\">&gt;</span><span style=\"color: #000080; text-decoration-color: #000080\"> ───────────╮</span>\n",
       "<span style=\"color: #000080; text-decoration-color: #000080\">│</span> <span style=\"color: #00ffff; text-decoration-color: #00ffff; font-style: italic\">def </span><span style=\"font-weight: bold\">(</span>*args, **kwargs<span style=\"font-weight: bold\">)</span>:                                                                              <span style=\"color: #000080; text-decoration-color: #000080\">│</span>\n",
       "<span style=\"color: #000080; text-decoration-color: #000080\">│</span>                                                                                                     <span style=\"color: #000080; text-decoration-color: #000080\">│</span>\n",
       "<span style=\"color: #000080; text-decoration-color: #000080\">│</span> <span style=\"color: #808000; text-decoration-color: #808000; font-style: italic\">function_purpose</span> = <span style=\"color: #008000; text-decoration-color: #008000\">'The runtime of string-based function that checks if the prediction is correct.'</span> <span style=\"color: #000080; text-decoration-color: #000080\">│</span>\n",
       "<span style=\"color: #000080; text-decoration-color: #000080\">╰─────────────────────────────────────────────────────────────────────────────────────────────────────╯</span>\n",
       "</pre>\n"
      ],
      "text/plain": [
       "\u001b[34m╭─\u001b[0m\u001b[34m─────────\u001b[0m\u001b[34m \u001b[0m\u001b[1;34m<\u001b[0m\u001b[1;95mtextgrad.autograd.string_based_ops.StringBasedFunction\u001b[0m\u001b[39m object at \u001b[0m\u001b[1;36m0x11a1f3a30\u001b[0m\u001b[1;34m>\u001b[0m\u001b[34m \u001b[0m\u001b[34m──────────\u001b[0m\u001b[34m─╮\u001b[0m\n",
       "\u001b[34m│\u001b[0m \u001b[3;96mdef \u001b[0m\u001b[1m(\u001b[0m*args, **kwargs\u001b[1m)\u001b[0m:                                                                              \u001b[34m│\u001b[0m\n",
       "\u001b[34m│\u001b[0m                                                                                                     \u001b[34m│\u001b[0m\n",
       "\u001b[34m│\u001b[0m \u001b[3;33mfunction_purpose\u001b[0m = \u001b[32m'The runtime of string-based function that checks if the prediction is correct.'\u001b[0m \u001b[34m│\u001b[0m\n",
       "\u001b[34m╰─────────────────────────────────────────────────────────────────────────────────────────────────────╯\u001b[0m\n"
      ]
     },
     "metadata": {},
     "output_type": "display_data"
    }
   ],
   "source": [
    "inspect(eval_fn)"
   ]
  },
  {
   "cell_type": "code",
   "execution_count": 6,
   "id": "4a1d2da5-7734-4d55-8449-c4f86124f0e6",
   "metadata": {
    "tags": []
   },
   "outputs": [
    {
     "name": "stdout",
     "output_type": "stream",
     "text": [
      "question_str: I have two stalks of celery, two garlics, a potato, three heads of broccoli, a carrot, and a yam. How many vegetables do I have?\n",
      "answer_str: 10\n"
     ]
    }
   ],
   "source": [
    "print(f\"question_str: {question_str}\")\n",
    "print(f\"answer_str: {answer_str}\")"
   ]
  },
  {
   "cell_type": "code",
   "execution_count": 7,
   "id": "4b73c651-74ad-4011-96fb-ba89b1be08e6",
   "metadata": {
    "tags": []
   },
   "outputs": [],
   "source": [
    "question = tg.Variable(question_str, role_description=\"question to the LLM\", requires_grad=False)\n",
    "\n",
    "answer = tg.Variable(str(answer_str), role_description=\"answer to the question\", requires_grad=False)\n",
    "\n",
    "system_prompt = tg.Variable(\"You are a concise LLM. Think step by step.\",\n",
    "                           requires_grad=True,\n",
    "                           role_description=\"system prompt to guide the LLM's reasoning strategy for accurate responses\")"
   ]
  },
  {
   "cell_type": "code",
   "execution_count": 8,
   "id": "39fb0a48-8dec-46c3-8fbd-6e6431517e90",
   "metadata": {
    "tags": []
   },
   "outputs": [],
   "source": [
    "model = tg.BlackboxLLM(llm_engine, system_prompt=system_prompt)"
   ]
  },
  {
   "cell_type": "code",
   "execution_count": 9,
   "id": "aeee618d-ba68-49ef-8f19-c2064bb5e2e1",
   "metadata": {
    "tags": []
   },
   "outputs": [],
   "source": [
    "optimizer = tg.TGD(parameters=model.parameters())"
   ]
  },
  {
   "cell_type": "code",
   "execution_count": 10,
   "id": "ab52a6e3-813a-4902-be07-40f3ca042544",
   "metadata": {
    "tags": []
   },
   "outputs": [
    {
     "data": {
      "text/html": [
       "<pre style=\"white-space:pre;overflow-x:auto;line-height:normal;font-family:Menlo,'DejaVu Sans Mono',consolas,'Courier New',monospace\"><span style=\"color: #000080; text-decoration-color: #000080\">╭──────────────────────────────────────────────── </span><span style=\"color: #000080; text-decoration-color: #000080; font-weight: bold\">&lt;</span><span style=\"color: #ff00ff; text-decoration-color: #ff00ff; font-weight: bold\">class</span><span style=\"color: #000000; text-decoration-color: #000000\"> </span><span style=\"color: #008000; text-decoration-color: #008000\">'list'</span><span style=\"color: #000080; text-decoration-color: #000080; font-weight: bold\">&gt;</span><span style=\"color: #000080; text-decoration-color: #000080\"> ─────────────────────────────────────────────────╮</span>\n",
       "<span style=\"color: #000080; text-decoration-color: #000080\">│</span> <span style=\"color: #008080; text-decoration-color: #008080\">Built-in mutable sequence.</span>                                                                                      <span style=\"color: #000080; text-decoration-color: #000080\">│</span>\n",
       "<span style=\"color: #000080; text-decoration-color: #000080\">│</span>                                                                                                                 <span style=\"color: #000080; text-decoration-color: #000080\">│</span>\n",
       "<span style=\"color: #000080; text-decoration-color: #000080\">│</span> <span style=\"color: #008000; text-decoration-color: #008000\">╭─────────────────────────────────────────────────────────────────────────────────────────────────────────────╮</span> <span style=\"color: #000080; text-decoration-color: #000080\">│</span>\n",
       "<span style=\"color: #000080; text-decoration-color: #000080\">│</span> <span style=\"color: #008000; text-decoration-color: #008000\">│</span> <span style=\"font-weight: bold\">[</span>                                                                                                           <span style=\"color: #008000; text-decoration-color: #008000\">│</span> <span style=\"color: #000080; text-decoration-color: #000080\">│</span>\n",
       "<span style=\"color: #000080; text-decoration-color: #000080\">│</span> <span style=\"color: #008000; text-decoration-color: #008000\">│</span> <span style=\"color: #7fbf7f; text-decoration-color: #7fbf7f\">│   </span><span style=\"color: #800080; text-decoration-color: #800080; font-weight: bold\">Variable</span><span style=\"font-weight: bold\">(</span><span style=\"color: #808000; text-decoration-color: #808000\">value</span>=<span style=\"color: #800080; text-decoration-color: #800080\">You</span> are a concise LLM. Think step by step., <span style=\"color: #808000; text-decoration-color: #808000\">role</span>=<span style=\"color: #800080; text-decoration-color: #800080\">system</span> prompt to guide the LLM's        <span style=\"color: #008000; text-decoration-color: #008000\">│</span> <span style=\"color: #000080; text-decoration-color: #000080\">│</span>\n",
       "<span style=\"color: #000080; text-decoration-color: #000080\">│</span> <span style=\"color: #008000; text-decoration-color: #008000\">│</span> reasoning strategy for accurate responses, <span style=\"color: #808000; text-decoration-color: #808000\">grads</span>=<span style=\"color: #800080; text-decoration-color: #800080; font-weight: bold\">set</span><span style=\"font-weight: bold\">())</span>                                                     <span style=\"color: #008000; text-decoration-color: #008000\">│</span> <span style=\"color: #000080; text-decoration-color: #000080\">│</span>\n",
       "<span style=\"color: #000080; text-decoration-color: #000080\">│</span> <span style=\"color: #008000; text-decoration-color: #008000\">│</span> <span style=\"font-weight: bold\">]</span>                                                                                                           <span style=\"color: #008000; text-decoration-color: #008000\">│</span> <span style=\"color: #000080; text-decoration-color: #000080\">│</span>\n",
       "<span style=\"color: #000080; text-decoration-color: #000080\">│</span> <span style=\"color: #008000; text-decoration-color: #008000\">╰─────────────────────────────────────────────────────────────────────────────────────────────────────────────╯</span> <span style=\"color: #000080; text-decoration-color: #000080\">│</span>\n",
       "<span style=\"color: #000080; text-decoration-color: #000080\">│</span>                                                                                                                 <span style=\"color: #000080; text-decoration-color: #000080\">│</span>\n",
       "<span style=\"color: #000080; text-decoration-color: #000080\">│</span> <span style=\"color: #008080; text-decoration-color: #008080; font-weight: bold\">36</span><span style=\"font-style: italic\"> attribute(s) not shown.</span> Run <span style=\"color: #800080; text-decoration-color: #800080; font-weight: bold\">inspect</span><span style=\"font-weight: bold\">(</span>inspect<span style=\"font-weight: bold\">)</span> for options.                                                    <span style=\"color: #000080; text-decoration-color: #000080\">│</span>\n",
       "<span style=\"color: #000080; text-decoration-color: #000080\">╰─────────────────────────────────────────────────────────────────────────────────────────────────────────────────╯</span>\n",
       "</pre>\n"
      ],
      "text/plain": [
       "\u001b[34m╭─\u001b[0m\u001b[34m───────────────────────────────────────────────\u001b[0m\u001b[34m \u001b[0m\u001b[1;34m<\u001b[0m\u001b[1;95mclass\u001b[0m\u001b[39m \u001b[0m\u001b[32m'list'\u001b[0m\u001b[1;34m>\u001b[0m\u001b[34m \u001b[0m\u001b[34m────────────────────────────────────────────────\u001b[0m\u001b[34m─╮\u001b[0m\n",
       "\u001b[34m│\u001b[0m \u001b[36mBuilt-in mutable sequence.\u001b[0m                                                                                      \u001b[34m│\u001b[0m\n",
       "\u001b[34m│\u001b[0m                                                                                                                 \u001b[34m│\u001b[0m\n",
       "\u001b[34m│\u001b[0m \u001b[32m╭─────────────────────────────────────────────────────────────────────────────────────────────────────────────╮\u001b[0m \u001b[34m│\u001b[0m\n",
       "\u001b[34m│\u001b[0m \u001b[32m│\u001b[0m \u001b[1m[\u001b[0m                                                                                                           \u001b[32m│\u001b[0m \u001b[34m│\u001b[0m\n",
       "\u001b[34m│\u001b[0m \u001b[32m│\u001b[0m \u001b[2;32m│   \u001b[0m\u001b[1;35mVariable\u001b[0m\u001b[1m(\u001b[0m\u001b[33mvalue\u001b[0m=\u001b[35mYou\u001b[0m are a concise LLM. Think step by step., \u001b[33mrole\u001b[0m=\u001b[35msystem\u001b[0m prompt to guide the LLM's        \u001b[32m│\u001b[0m \u001b[34m│\u001b[0m\n",
       "\u001b[34m│\u001b[0m \u001b[32m│\u001b[0m reasoning strategy for accurate responses, \u001b[33mgrads\u001b[0m=\u001b[1;35mset\u001b[0m\u001b[1m(\u001b[0m\u001b[1m)\u001b[0m\u001b[1m)\u001b[0m                                                     \u001b[32m│\u001b[0m \u001b[34m│\u001b[0m\n",
       "\u001b[34m│\u001b[0m \u001b[32m│\u001b[0m \u001b[1m]\u001b[0m                                                                                                           \u001b[32m│\u001b[0m \u001b[34m│\u001b[0m\n",
       "\u001b[34m│\u001b[0m \u001b[32m╰─────────────────────────────────────────────────────────────────────────────────────────────────────────────╯\u001b[0m \u001b[34m│\u001b[0m\n",
       "\u001b[34m│\u001b[0m                                                                                                                 \u001b[34m│\u001b[0m\n",
       "\u001b[34m│\u001b[0m \u001b[1;36m36\u001b[0m\u001b[3m attribute(s) not shown.\u001b[0m Run \u001b[1;35minspect\u001b[0m\u001b[1m(\u001b[0minspect\u001b[1m)\u001b[0m for options.                                                    \u001b[34m│\u001b[0m\n",
       "\u001b[34m╰─────────────────────────────────────────────────────────────────────────────────────────────────────────────────╯\u001b[0m\n"
      ]
     },
     "metadata": {},
     "output_type": "display_data"
    }
   ],
   "source": [
    "inspect(model.parameters())"
   ]
  },
  {
   "cell_type": "code",
   "execution_count": 11,
   "id": "e7710eeb-5ea7-423c-9828-b2b45826ccde",
   "metadata": {
    "tags": []
   },
   "outputs": [],
   "source": [
    "prediction = model(question)"
   ]
  },
  {
   "cell_type": "code",
   "execution_count": 12,
   "id": "f21f6d2e-df80-40bc-8784-5b59c3fd52b4",
   "metadata": {
    "tags": []
   },
   "outputs": [
    {
     "name": "stdout",
     "output_type": "stream",
     "text": [
      "prediction: You have a total of 7 vegetables: 2 stalks of celery, 2 garlics, 1 potato, 3 heads of broccoli, 1 carrot, and 1 yam.\n"
     ]
    }
   ],
   "source": [
    "print(f\"prediction: {prediction}\")"
   ]
  },
  {
   "cell_type": "code",
   "execution_count": 13,
   "id": "ac579920-04d9-4628-b1cc-6c1b4f10086e",
   "metadata": {
    "tags": []
   },
   "outputs": [],
   "source": [
    "loss = eval_fn(inputs=dict(prediction=prediction, ground_truth_answer=answer))"
   ]
  },
  {
   "cell_type": "code",
   "execution_count": 14,
   "id": "e427ca07-853c-4098-a86f-98d516fc02d2",
   "metadata": {
    "tags": []
   },
   "outputs": [
    {
     "data": {
      "text/html": [
       "<pre style=\"white-space:pre;overflow-x:auto;line-height:normal;font-family:Menlo,'DejaVu Sans Mono',consolas,'Courier New',monospace\"><span style=\"color: #000080; text-decoration-color: #000080\">╭───────────────────────────────────── </span><span style=\"color: #000080; text-decoration-color: #000080; font-weight: bold\">&lt;</span><span style=\"color: #ff00ff; text-decoration-color: #ff00ff; font-weight: bold\">class</span><span style=\"color: #000000; text-decoration-color: #000000\"> </span><span style=\"color: #008000; text-decoration-color: #008000\">'textgrad.variable.Variable'</span><span style=\"color: #000080; text-decoration-color: #000080; font-weight: bold\">&gt;</span><span style=\"color: #000080; text-decoration-color: #000080\"> ──────────────────────────────────────╮</span>\n",
       "<span style=\"color: #000080; text-decoration-color: #000080\">│</span> <span style=\"color: #008000; text-decoration-color: #008000\">╭─────────────────────────────────────────────────────────────────────────────────────────────────────────────╮</span> <span style=\"color: #000080; text-decoration-color: #000080\">│</span>\n",
       "<span style=\"color: #000080; text-decoration-color: #000080\">│</span> <span style=\"color: #008000; text-decoration-color: #008000\">│</span> <span style=\"color: #800080; text-decoration-color: #800080; font-weight: bold\">Variable</span><span style=\"font-weight: bold\">(</span><span style=\"color: #808000; text-decoration-color: #808000\">value</span>=<span style=\"color: #008080; text-decoration-color: #008080; font-weight: bold\">0</span>, <span style=\"color: #808000; text-decoration-color: #808000\">role</span>=<span style=\"color: #800080; text-decoration-color: #800080\">Output</span> of the string-based function with purpose: The runtime of string-based        <span style=\"color: #008000; text-decoration-color: #008000\">│</span> <span style=\"color: #000080; text-decoration-color: #000080\">│</span>\n",
       "<span style=\"color: #000080; text-decoration-color: #000080\">│</span> <span style=\"color: #008000; text-decoration-color: #008000\">│</span> function that checks if the prediction is correct., <span style=\"color: #808000; text-decoration-color: #808000\">grads</span>=<span style=\"color: #800080; text-decoration-color: #800080; font-weight: bold\">set</span><span style=\"font-weight: bold\">())</span>                                            <span style=\"color: #008000; text-decoration-color: #008000\">│</span> <span style=\"color: #000080; text-decoration-color: #000080\">│</span>\n",
       "<span style=\"color: #000080; text-decoration-color: #000080\">│</span> <span style=\"color: #008000; text-decoration-color: #008000\">╰─────────────────────────────────────────────────────────────────────────────────────────────────────────────╯</span> <span style=\"color: #000080; text-decoration-color: #000080\">│</span>\n",
       "<span style=\"color: #000080; text-decoration-color: #000080\">│</span>                                                                                                                 <span style=\"color: #000080; text-decoration-color: #000080\">│</span>\n",
       "<span style=\"color: #000080; text-decoration-color: #000080\">│</span>         <span style=\"color: #808000; text-decoration-color: #808000; font-style: italic\">gradients</span> = <span style=\"color: #800080; text-decoration-color: #800080; font-weight: bold\">set</span><span style=\"font-weight: bold\">()</span>                                                                                       <span style=\"color: #000080; text-decoration-color: #000080\">│</span>\n",
       "<span style=\"color: #000080; text-decoration-color: #000080\">│</span> <span style=\"color: #808000; text-decoration-color: #808000; font-style: italic\">gradients_context</span> = <span style=\"color: #800080; text-decoration-color: #800080; font-weight: bold\">defaultdict</span><span style=\"font-weight: bold\">(&lt;</span><span style=\"color: #ff00ff; text-decoration-color: #ff00ff; font-weight: bold\">function</span><span style=\"color: #000000; text-decoration-color: #000000\"> Variable.__init__.&lt;locals&gt;.&lt;lambda&gt; at </span><span style=\"color: #008080; text-decoration-color: #008080; font-weight: bold\">0x12ef7f5b0</span><span style=\"font-weight: bold\">&gt;</span>, <span style=\"font-weight: bold\">{})</span>              <span style=\"color: #000080; text-decoration-color: #000080\">│</span>\n",
       "<span style=\"color: #000080; text-decoration-color: #000080\">│</span>      <span style=\"color: #808000; text-decoration-color: #808000; font-style: italic\">predecessors</span> = <span style=\"font-weight: bold\">{</span>                                                                                           <span style=\"color: #000080; text-decoration-color: #000080\">│</span>\n",
       "<span style=\"color: #000080; text-decoration-color: #000080\">│</span>                         <span style=\"color: #800080; text-decoration-color: #800080; font-weight: bold\">Variable</span><span style=\"font-weight: bold\">(</span><span style=\"color: #808000; text-decoration-color: #808000\">value</span>=<span style=\"color: #008080; text-decoration-color: #008080; font-weight: bold\">10</span>, <span style=\"color: #808000; text-decoration-color: #808000\">role</span>=<span style=\"color: #800080; text-decoration-color: #800080\">answer</span> to the question, <span style=\"color: #808000; text-decoration-color: #808000\">grads</span>=<span style=\"color: #800080; text-decoration-color: #800080; font-weight: bold\">set</span><span style=\"font-weight: bold\">())</span>,                           <span style=\"color: #000080; text-decoration-color: #000080\">│</span>\n",
       "<span style=\"color: #000080; text-decoration-color: #000080\">│</span>                         <span style=\"color: #800080; text-decoration-color: #800080; font-weight: bold\">Variable</span><span style=\"font-weight: bold\">(</span><span style=\"color: #808000; text-decoration-color: #808000\">value</span>=<span style=\"color: #800080; text-decoration-color: #800080\">You</span> have a total of <span style=\"color: #008080; text-decoration-color: #008080; font-weight: bold\">7</span> vegetables: <span style=\"color: #008080; text-decoration-color: #008080; font-weight: bold\">2</span> stalks of celery, <span style=\"color: #008080; text-decoration-color: #008080; font-weight: bold\">2</span> garlics, <span style=\"color: #008080; text-decoration-color: #008080; font-weight: bold\">1</span>       <span style=\"color: #000080; text-decoration-color: #000080\">│</span>\n",
       "<span style=\"color: #000080; text-decoration-color: #000080\">│</span>                     potato, <span style=\"color: #008080; text-decoration-color: #008080; font-weight: bold\">3</span> heads of broccoli, <span style=\"color: #008080; text-decoration-color: #008080; font-weight: bold\">1</span> carrot, and <span style=\"color: #008080; text-decoration-color: #008080; font-weight: bold\">1</span> yam., <span style=\"color: #808000; text-decoration-color: #808000\">role</span>=<span style=\"color: #800080; text-decoration-color: #800080\">response</span> from the language model,   <span style=\"color: #000080; text-decoration-color: #000080\">│</span>\n",
       "<span style=\"color: #000080; text-decoration-color: #000080\">│</span>                     <span style=\"color: #808000; text-decoration-color: #808000\">grads</span>=<span style=\"color: #800080; text-decoration-color: #800080; font-weight: bold\">set</span><span style=\"font-weight: bold\">())</span>                                                                                <span style=\"color: #000080; text-decoration-color: #000080\">│</span>\n",
       "<span style=\"color: #000080; text-decoration-color: #000080\">│</span>                     <span style=\"font-weight: bold\">}</span>                                                                                           <span style=\"color: #000080; text-decoration-color: #000080\">│</span>\n",
       "<span style=\"color: #000080; text-decoration-color: #000080\">│</span>     <span style=\"color: #808000; text-decoration-color: #808000; font-style: italic\">requires_grad</span> = <span style=\"color: #00ff00; text-decoration-color: #00ff00; font-style: italic\">True</span>                                                                                        <span style=\"color: #000080; text-decoration-color: #000080\">│</span>\n",
       "<span style=\"color: #000080; text-decoration-color: #000080\">│</span>  <span style=\"color: #808000; text-decoration-color: #808000; font-style: italic\">role_description</span> = <span style=\"color: #008000; text-decoration-color: #008000\">'Output of the string-based function with purpose: The runtime of string-based function </span>    <span style=\"color: #000080; text-decoration-color: #000080\">│</span>\n",
       "<span style=\"color: #000080; text-decoration-color: #000080\">│</span>                     <span style=\"color: #008000; text-decoration-color: #008000\">that checks if the prediction is correct.'</span>                                                  <span style=\"color: #000080; text-decoration-color: #000080\">│</span>\n",
       "<span style=\"color: #000080; text-decoration-color: #000080\">│</span>             <span style=\"color: #808000; text-decoration-color: #808000; font-style: italic\">value</span> = <span style=\"color: #008000; text-decoration-color: #008000\">'0'</span>                                                                                         <span style=\"color: #000080; text-decoration-color: #000080\">│</span>\n",
       "<span style=\"color: #000080; text-decoration-color: #000080\">╰─────────────────────────────────────────────────────────────────────────────────────────────────────────────────╯</span>\n",
       "</pre>\n"
      ],
      "text/plain": [
       "\u001b[34m╭─\u001b[0m\u001b[34m────────────────────────────────────\u001b[0m\u001b[34m \u001b[0m\u001b[1;34m<\u001b[0m\u001b[1;95mclass\u001b[0m\u001b[39m \u001b[0m\u001b[32m'textgrad.variable.Variable'\u001b[0m\u001b[1;34m>\u001b[0m\u001b[34m \u001b[0m\u001b[34m─────────────────────────────────────\u001b[0m\u001b[34m─╮\u001b[0m\n",
       "\u001b[34m│\u001b[0m \u001b[32m╭─────────────────────────────────────────────────────────────────────────────────────────────────────────────╮\u001b[0m \u001b[34m│\u001b[0m\n",
       "\u001b[34m│\u001b[0m \u001b[32m│\u001b[0m \u001b[1;35mVariable\u001b[0m\u001b[1m(\u001b[0m\u001b[33mvalue\u001b[0m=\u001b[1;36m0\u001b[0m, \u001b[33mrole\u001b[0m=\u001b[35mOutput\u001b[0m of the string-based function with purpose: The runtime of string-based        \u001b[32m│\u001b[0m \u001b[34m│\u001b[0m\n",
       "\u001b[34m│\u001b[0m \u001b[32m│\u001b[0m function that checks if the prediction is correct., \u001b[33mgrads\u001b[0m=\u001b[1;35mset\u001b[0m\u001b[1m(\u001b[0m\u001b[1m)\u001b[0m\u001b[1m)\u001b[0m                                            \u001b[32m│\u001b[0m \u001b[34m│\u001b[0m\n",
       "\u001b[34m│\u001b[0m \u001b[32m╰─────────────────────────────────────────────────────────────────────────────────────────────────────────────╯\u001b[0m \u001b[34m│\u001b[0m\n",
       "\u001b[34m│\u001b[0m                                                                                                                 \u001b[34m│\u001b[0m\n",
       "\u001b[34m│\u001b[0m         \u001b[3;33mgradients\u001b[0m = \u001b[1;35mset\u001b[0m\u001b[1m(\u001b[0m\u001b[1m)\u001b[0m                                                                                       \u001b[34m│\u001b[0m\n",
       "\u001b[34m│\u001b[0m \u001b[3;33mgradients_context\u001b[0m = \u001b[1;35mdefaultdict\u001b[0m\u001b[1m(\u001b[0m\u001b[1m<\u001b[0m\u001b[1;95mfunction\u001b[0m\u001b[39m Variable.__init__.<locals>.<lambda> at \u001b[0m\u001b[1;36m0x12ef7f5b0\u001b[0m\u001b[1m>\u001b[0m, \u001b[1m{\u001b[0m\u001b[1m}\u001b[0m\u001b[1m)\u001b[0m              \u001b[34m│\u001b[0m\n",
       "\u001b[34m│\u001b[0m      \u001b[3;33mpredecessors\u001b[0m = \u001b[1m{\u001b[0m                                                                                           \u001b[34m│\u001b[0m\n",
       "\u001b[34m│\u001b[0m                         \u001b[1;35mVariable\u001b[0m\u001b[1m(\u001b[0m\u001b[33mvalue\u001b[0m=\u001b[1;36m10\u001b[0m, \u001b[33mrole\u001b[0m=\u001b[35manswer\u001b[0m to the question, \u001b[33mgrads\u001b[0m=\u001b[1;35mset\u001b[0m\u001b[1m(\u001b[0m\u001b[1m)\u001b[0m\u001b[1m)\u001b[0m,                           \u001b[34m│\u001b[0m\n",
       "\u001b[34m│\u001b[0m                         \u001b[1;35mVariable\u001b[0m\u001b[1m(\u001b[0m\u001b[33mvalue\u001b[0m=\u001b[35mYou\u001b[0m have a total of \u001b[1;36m7\u001b[0m vegetables: \u001b[1;36m2\u001b[0m stalks of celery, \u001b[1;36m2\u001b[0m garlics, \u001b[1;36m1\u001b[0m       \u001b[34m│\u001b[0m\n",
       "\u001b[34m│\u001b[0m                     potato, \u001b[1;36m3\u001b[0m heads of broccoli, \u001b[1;36m1\u001b[0m carrot, and \u001b[1;36m1\u001b[0m yam., \u001b[33mrole\u001b[0m=\u001b[35mresponse\u001b[0m from the language model,   \u001b[34m│\u001b[0m\n",
       "\u001b[34m│\u001b[0m                     \u001b[33mgrads\u001b[0m=\u001b[1;35mset\u001b[0m\u001b[1m(\u001b[0m\u001b[1m)\u001b[0m\u001b[1m)\u001b[0m                                                                                \u001b[34m│\u001b[0m\n",
       "\u001b[34m│\u001b[0m                     \u001b[1m}\u001b[0m                                                                                           \u001b[34m│\u001b[0m\n",
       "\u001b[34m│\u001b[0m     \u001b[3;33mrequires_grad\u001b[0m = \u001b[3;92mTrue\u001b[0m                                                                                        \u001b[34m│\u001b[0m\n",
       "\u001b[34m│\u001b[0m  \u001b[3;33mrole_description\u001b[0m = \u001b[32m'Output of the string-based function with purpose: The runtime of string-based function \u001b[0m    \u001b[34m│\u001b[0m\n",
       "\u001b[34m│\u001b[0m                     \u001b[32mthat checks if the prediction is correct.'\u001b[0m                                                  \u001b[34m│\u001b[0m\n",
       "\u001b[34m│\u001b[0m             \u001b[3;33mvalue\u001b[0m = \u001b[32m'0'\u001b[0m                                                                                         \u001b[34m│\u001b[0m\n",
       "\u001b[34m╰─────────────────────────────────────────────────────────────────────────────────────────────────────────────────╯\u001b[0m\n"
      ]
     },
     "metadata": {},
     "output_type": "display_data"
    }
   ],
   "source": [
    "# Loss denoting accuracy:\n",
    "inspect(loss)"
   ]
  },
  {
   "cell_type": "code",
   "execution_count": 15,
   "id": "4bef4678-652f-482d-b866-18f5448e1f6d",
   "metadata": {
    "tags": []
   },
   "outputs": [],
   "source": [
    "loss.backward()"
   ]
  },
  {
   "cell_type": "code",
   "execution_count": 16,
   "id": "636a7fe0-de36-4983-ba38-e781b1b9b0df",
   "metadata": {
    "tags": []
   },
   "outputs": [
    {
     "name": "stdout",
     "output_type": "stream",
     "text": [
      "system prompt gradient:\n",
      "1. **Emphasize Arithmetic Accuracy**:\n",
      "   - The current prompt does not explicitly instruct the model to verify arithmetic calculations. Adding a directive to ensure arithmetic accuracy can help.\n",
      "   - **Fix**: Include a specific instruction to double-check arithmetic calculations. For example, \"Ensure all arithmetic calculations are accurate.\"\n",
      "\n",
      "2. **Detail-Oriented Breakdown**:\n",
      "   - The prompt should encourage the model to carefully break down and verify each component of the input.\n",
      "   - **Fix**: Add a directive to verify each item in the breakdown. For example, \"Verify each item in the breakdown to ensure the total is correct.\"\n",
      "\n",
      "3. **Consistency in Units**:\n",
      "   - The prompt should guide the model to pay attention to the units used (e.g., stalks, heads) and ensure they are consistently and correctly counted.\n",
      "   - **Fix**: Include a reminder to check the consistency of units. For example, \"Ensure consistency in the units used for counting items.\"\n",
      "\n",
      "4. **Validation Step**:\n",
      "   - The prompt should instruct the model to perform a validation step to re-check its calculations before finalizing the response.\n",
      "   - **Fix**: Add a directive for a validation step. For example, \"Perform a validation step to re-check calculations before finalizing the response.\"\n",
      "\n",
      "5. **Clarity and Conciseness**:\n",
      "   - While the current prompt emphasizes conciseness, it should also stress the importance of clarity to avoid any confusion.\n",
      "   - **Fix**: Modify the prompt to include clarity. For example, \"Be concise and clear in your response.\"\n",
      "\n",
      "6. **Explicit Instructions for Summation**:\n",
      "   - The prompt should explicitly instruct the model to sum up the items correctly.\n",
      "   - **Fix**: Add a directive for summation. For example, \"Sum up the items correctly to ensure the total is accurate.\"\n",
      "\n",
      "By incorporating these strategies into the system prompt, the LLM's reasoning strategy can be better guided to produce accurate and reliable responses, thereby improving the objective function.\n"
     ]
    }
   ],
   "source": [
    "print(f\"system prompt gradient:\\n{system_prompt.get_gradient_text()}\")"
   ]
  },
  {
   "cell_type": "code",
   "execution_count": 17,
   "id": "64ef3130-abcc-4ba0-9d1a-20b394ea1721",
   "metadata": {
    "tags": []
   },
   "outputs": [],
   "source": [
    "optimizer.step()"
   ]
  },
  {
   "cell_type": "code",
   "execution_count": 18,
   "id": "be8e3bf4-91ea-4d66-b2c8-9b4504643d93",
   "metadata": {
    "tags": []
   },
   "outputs": [
    {
     "name": "stdout",
     "output_type": "stream",
     "text": [
      "new system prompt:\n",
      "You are a concise and clear LLM. Think step by step. Ensure all arithmetic calculations are accurate. Verify each item in the breakdown to ensure the total is correct. Ensure consistency in the units used for counting items. Perform a validation step to re-check calculations before finalizing the response. Sum up the items correctly to ensure the total is accurate.\n"
     ]
    }
   ],
   "source": [
    "print(f\"new system prompt:\\n{system_prompt.get_value()}\")"
   ]
  },
  {
   "cell_type": "code",
   "execution_count": 19,
   "id": "6b87e5c0-9a3e-40de-b970-916c21b2967a",
   "metadata": {
    "tags": []
   },
   "outputs": [],
   "source": [
    "prediction = model(question)"
   ]
  },
  {
   "cell_type": "code",
   "execution_count": 20,
   "id": "3315f32c-425f-418d-a558-3312145fbd65",
   "metadata": {
    "tags": []
   },
   "outputs": [
    {
     "name": "stdout",
     "output_type": "stream",
     "text": [
      "Let's count the number of vegetables you have:\n",
      "\n",
      "- 2 stalks of celery\n",
      "- 2 garlics\n",
      "- 1 potato\n",
      "- 3 heads of broccoli\n",
      "- 1 carrot\n",
      "- 1 yam\n",
      "\n",
      "Adding them up:\n",
      "2 + 2 + 1 + 3 + 1 + 1 = 10\n",
      "\n",
      "You have 10 vegetables in total.\n"
     ]
    }
   ],
   "source": [
    "# 2 stalks of celery  -- 芹菜茎\n",
    "# 2 garlics  -- 大蒜\n",
    "# 1 potato  -- 土豆\n",
    "# 3 broccoli -- 西蓝花\n",
    "# 1 carrot  -- 胡萝卜\n",
    "# 1 yam  -- 红薯\n",
    "# 2 + 2 + 1 + 3 + 1 + 1 = 10\n",
    "\n",
    "print(prediction)"
   ]
  }
 ],
 "metadata": {
  "kernelspec": {
   "display_name": "AGI",
   "language": "python",
   "name": "agi"
  },
  "language_info": {
   "codemirror_mode": {
    "name": "ipython",
    "version": 3
   },
   "file_extension": ".py",
   "mimetype": "text/x-python",
   "name": "python",
   "nbconvert_exporter": "python",
   "pygments_lexer": "ipython3",
   "version": "3.10.12"
  }
 },
 "nbformat": 4,
 "nbformat_minor": 5
}
